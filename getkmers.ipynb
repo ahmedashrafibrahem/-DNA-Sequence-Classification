{
  "nbformat": 4,
  "nbformat_minor": 0,
  "metadata": {
    "colab": {
      "provenance": []
    },
    "kernelspec": {
      "name": "python3",
      "display_name": "Python 3"
    },
    "language_info": {
      "name": "python"
    }
  },
  "cells": [
    {
      "cell_type": "code",
      "execution_count": 3,
      "metadata": {
        "id": "O1gHbUyRnFFQ"
      },
      "outputs": [],
      "source": [
        "# function to convert sequence strings into k-mer words, default size = 6 (hexamer words)\n",
        "def getKmers(sequence, size=3):\n",
        "    return [sequence[x:x+size].lower() for x in range(len(sequence) - size + 1)]"
      ]
    },
    {
      "cell_type": "code",
      "source": [
        "getKmers(\"ATCUAGT\")"
      ],
      "metadata": {
        "colab": {
          "base_uri": "https://localhost:8080/",
          "height": 36
        },
        "id": "sV7HQxrdnHIj",
        "outputId": "c9d15731-a498-420b-a20d-1c589e76b495"
      },
      "execution_count": 4,
      "outputs": [
        {
          "output_type": "execute_result",
          "data": {
            "text/plain": [
              "'atcuag'"
            ],
            "application/vnd.google.colaboratory.intrinsic+json": {
              "type": "string"
            }
          },
          "metadata": {},
          "execution_count": 4
        }
      ]
    },
    {
      "cell_type": "code",
      "source": [
        "\n",
        "def kmers(seq,size=3):\n",
        "  for i in range(len(seq)-size+1): # 7-3+1=5\n",
        "   print(seq[i:i+size]) # 0:3, 0/1/2\n",
        "  print(len(seq))\n",
        "  "
      ],
      "metadata": {
        "id": "hkZmvznKXlHJ"
      },
      "execution_count": 22,
      "outputs": []
    },
    {
      "cell_type": "code",
      "source": [
        "kmers(\"ATCUAGT\")  #count from zero"
      ],
      "metadata": {
        "colab": {
          "base_uri": "https://localhost:8080/"
        },
        "id": "4ipvH0RtXmdb",
        "outputId": "16ef077d-81f4-4229-b6d8-9bd2069ba2fe"
      },
      "execution_count": 21,
      "outputs": [
        {
          "output_type": "stream",
          "name": "stdout",
          "text": [
            "ATC\n",
            "TCU\n",
            "CUA\n",
            "UAG\n",
            "AGT\n",
            "7\n"
          ]
        }
      ]
    }
  ]
}